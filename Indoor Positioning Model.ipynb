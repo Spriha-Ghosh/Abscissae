{
 "cells": [
  {
   "cell_type": "markdown",
   "metadata": {
    "papermill": {
     "duration": 0.016789,
     "end_time": "2021-03-08T18:48:13.208690",
     "exception": false,
     "start_time": "2021-03-08T18:48:13.191901",
     "status": "completed"
    },
    "tags": []
   },
   "source": [
    "This notebook is a slight modification of \n",
    "[LSTM by Keras with Unified Wi-Fi Feats](https://www.kaggle.com/kokitanisaka/lstm-by-keras-with-unified-wi-fi-feats/execution) by [@Kouki](https://www.kaggle.com/kokitanisaka). <br> \n",
    "\n",
    "Floor predictions are pretty accurate, so I wanted to test training the $x$ and $y$ coordinates with the floor data. The only thing I changed was training the $x$ and $y$ models with the floor data included. I add the floor predictions from [Simple 👌 99% Accurate Floor Model 💯](https://www.kaggle.com/nigelhenry/simple-99-accurate-floor-model) to the test data before making the $x$ and $y$ predictions."
   ]
  },
  {
   "cell_type": "markdown",
   "metadata": {
    "papermill": {
     "duration": 0.014759,
     "end_time": "2021-03-08T18:48:13.238837",
     "exception": false,
     "start_time": "2021-03-08T18:48:13.224078",
     "status": "completed"
    },
    "tags": []
   },
   "source": [
    "## Overview\n",
    "\n",
    "It demonstrates how to utilize [the unified Wi-Fi dataset](https://www.kaggle.com/kokitanisaka/indoorunifiedwifids).<br>\n",
    "The Neural Net model is not optimized, there's much space to improve the score. \n"
   ]
  },
  {
   "cell_type": "code",
   "execution_count": 1,
   "metadata": {
    "execution": {
     "iopub.execute_input": "2021-03-08T18:48:13.273841Z",
     "iopub.status.busy": "2021-03-08T18:48:13.273185Z",
     "iopub.status.idle": "2021-03-08T18:48:20.608403Z",
     "shell.execute_reply": "2021-03-08T18:48:20.607483Z"
    },
    "papermill": {
     "duration": 7.353893,
     "end_time": "2021-03-08T18:48:20.608645",
     "exception": false,
     "start_time": "2021-03-08T18:48:13.254752",
     "status": "completed"
    },
    "tags": []
   },
   "outputs": [],
   "source": [
    "import numpy as np\n",
    "import pandas as pd\n",
    "import scipy.stats as stats\n",
    "from pathlib import Path\n",
    "import glob\n",
    "import pickle\n",
    "\n",
    "import random\n",
    "import os\n",
    "\n",
    "from sklearn.model_selection import StratifiedKFold\n",
    "from sklearn.preprocessing import StandardScaler, LabelEncoder\n",
    "\n",
    "import tensorflow as tf\n",
    "import tensorflow.keras.layers as L\n",
    "import tensorflow.keras.models as M\n",
    "import tensorflow.keras.backend as K\n",
    "import tensorflow_addons as tfa\n",
    "from tensorflow_addons.layers import WeightNormalization\n",
    "from tensorflow.keras.callbacks import ReduceLROnPlateau, ModelCheckpoint, EarlyStopping"
   ]
  },
  {
   "cell_type": "markdown",
   "metadata": {
    "papermill": {
     "duration": 0.014949,
     "end_time": "2021-03-08T18:48:20.639410",
     "exception": false,
     "start_time": "2021-03-08T18:48:20.624461",
     "status": "completed"
    },
    "tags": []
   },
   "source": [
    "### options\n",
    "We can change the way it learns with these options. <br>\n",
    "Especialy **NUM_FEATS** is one of the most important options. <br>\n",
    "It determines how many features are used in the training. <br>\n",
    "We have 100 Wi-Fi features in the dataset, but 100th Wi-Fi signal sounds not important, right? <br>\n",
    "So we can use top Wi-Fi signals if we think we need to. "
   ]
  },
  {
   "cell_type": "code",
   "execution_count": 2,
   "metadata": {
    "execution": {
     "iopub.execute_input": "2021-03-08T18:48:20.676797Z",
     "iopub.status.busy": "2021-03-08T18:48:20.675706Z",
     "iopub.status.idle": "2021-03-08T18:48:20.679807Z",
     "shell.execute_reply": "2021-03-08T18:48:20.679233Z"
    },
    "papermill": {
     "duration": 0.024891,
     "end_time": "2021-03-08T18:48:20.679947",
     "exception": false,
     "start_time": "2021-03-08T18:48:20.655056",
     "status": "completed"
    },
    "tags": []
   },
   "outputs": [],
   "source": [
    "# options\n",
    "\n",
    "N_SPLITS = 10\n",
    "\n",
    "SEED = 2021\n",
    "\n",
    "NUM_FEATS = 20 # number of features that we use. there are 100 feats but we don't need to use all of them\n",
    "\n",
    "base_path = '/kaggle'"
   ]
  },
  {
   "cell_type": "code",
   "execution_count": 3,
   "metadata": {
    "_cell_guid": "b1076dfc-b9ad-4769-8c92-a6c4dae69d19",
    "_uuid": "8f2839f25d086af736a60e9eeb907d3b93b6e0e5",
    "execution": {
     "iopub.execute_input": "2021-03-08T18:48:20.721340Z",
     "iopub.status.busy": "2021-03-08T18:48:20.720596Z",
     "iopub.status.idle": "2021-03-08T18:48:20.723922Z",
     "shell.execute_reply": "2021-03-08T18:48:20.723321Z"
    },
    "papermill": {
     "duration": 0.028682,
     "end_time": "2021-03-08T18:48:20.724117",
     "exception": false,
     "start_time": "2021-03-08T18:48:20.695435",
     "status": "completed"
    },
    "tags": []
   },
   "outputs": [],
   "source": [
    "def set_seed(seed=42):\n",
    "    random.seed(seed)\n",
    "    os.environ['PYTHONHASHSEED'] = str(seed)\n",
    "    np.random.seed(seed)\n",
    "    tf.random.set_seed(seed)\n",
    "    session_conf = tf.compat.v1.ConfigProto(\n",
    "        intra_op_parallelism_threads=1,\n",
    "        inter_op_parallelism_threads=1\n",
    "    )\n",
    "    sess = tf.compat.v1.Session(graph=tf.compat.v1.get_default_graph(), config=session_conf)\n",
    "    tf.compat.v1.keras.backend.set_session(sess)\n",
    "    \n",
    "def comp_metric(xhat, yhat, fhat, x, y, f):\n",
    "    intermediate = np.sqrt(np.power(xhat-x, 2) + np.power(yhat-y, 2)) + 15 * np.abs(fhat-f)\n",
    "    return intermediate.sum()/xhat.shape[0]"
   ]
  },
  {
   "cell_type": "code",
   "execution_count": 4,
   "metadata": {
    "execution": {
     "iopub.execute_input": "2021-03-08T18:48:20.759143Z",
     "iopub.status.busy": "2021-03-08T18:48:20.758446Z",
     "iopub.status.idle": "2021-03-08T18:48:20.844477Z",
     "shell.execute_reply": "2021-03-08T18:48:20.843723Z"
    },
    "papermill": {
     "duration": 0.104971,
     "end_time": "2021-03-08T18:48:20.844647",
     "exception": false,
     "start_time": "2021-03-08T18:48:20.739676",
     "status": "completed"
    },
    "tags": []
   },
   "outputs": [],
   "source": [
    "feature_dir = f\"{base_path}/input/indoorunifiedwifids\"\n",
    "train_files = sorted(glob.glob(os.path.join(feature_dir, '*_train.csv')))\n",
    "test_files = sorted(glob.glob(os.path.join(feature_dir, '*_test.csv')))\n",
    "subm = pd.read_csv(f'{base_path}/input/indoor-location-navigation/sample_submission.csv', index_col=0)"
   ]
  },
  {
   "cell_type": "code",
   "execution_count": 5,
   "metadata": {
    "execution": {
     "iopub.execute_input": "2021-03-08T18:48:20.882861Z",
     "iopub.status.busy": "2021-03-08T18:48:20.881845Z",
     "iopub.status.idle": "2021-03-08T18:48:45.931658Z",
     "shell.execute_reply": "2021-03-08T18:48:45.932283Z"
    },
    "papermill": {
     "duration": 25.071993,
     "end_time": "2021-03-08T18:48:45.932481",
     "exception": false,
     "start_time": "2021-03-08T18:48:20.860488",
     "status": "completed"
    },
    "tags": []
   },
   "outputs": [],
   "source": [
    "with open(f'{feature_dir}/train_all.pkl', 'rb') as f:\n",
    "  data = pickle.load( f)\n",
    "\n",
    "with open(f'{feature_dir}/test_all.pkl', 'rb') as f:\n",
    "  test_data = pickle.load(f)"
   ]
  },
  {
   "cell_type": "code",
   "execution_count": 6,
   "metadata": {
    "execution": {
     "iopub.execute_input": "2021-03-08T18:48:45.970004Z",
     "iopub.status.busy": "2021-03-08T18:48:45.969272Z",
     "iopub.status.idle": "2021-03-08T18:48:45.973481Z",
     "shell.execute_reply": "2021-03-08T18:48:45.974018Z"
    },
    "papermill": {
     "duration": 0.025842,
     "end_time": "2021-03-08T18:48:45.974218",
     "exception": false,
     "start_time": "2021-03-08T18:48:45.948376",
     "status": "completed"
    },
    "tags": []
   },
   "outputs": [],
   "source": [
    "# training target features\n",
    "\n",
    "BSSID_FEATS = [f'bssid_{i}' for i in range(NUM_FEATS)]\n",
    "RSSI_FEATS  = [f'rssi_{i}' for i in range(NUM_FEATS)]"
   ]
  },
  {
   "cell_type": "code",
   "execution_count": 7,
   "metadata": {
    "execution": {
     "iopub.execute_input": "2021-03-08T18:48:46.010156Z",
     "iopub.status.busy": "2021-03-08T18:48:46.009452Z",
     "iopub.status.idle": "2021-03-08T18:48:51.572292Z",
     "shell.execute_reply": "2021-03-08T18:48:51.571110Z"
    },
    "papermill": {
     "duration": 5.582255,
     "end_time": "2021-03-08T18:48:51.572494",
     "exception": false,
     "start_time": "2021-03-08T18:48:45.990239",
     "status": "completed"
    },
    "tags": []
   },
   "outputs": [
    {
     "name": "stdout",
     "output_type": "stream",
     "text": [
      "BSSID TYPES: 61206\n",
      "BSSID TYPES: 33042\n"
     ]
    }
   ],
   "source": [
    "# get numbers of bssids to embed them in a layer\n",
    "\n",
    "wifi_bssids = []\n",
    "for i in range(100):\n",
    "    wifi_bssids.extend(data.iloc[:,i].values.tolist())\n",
    "wifi_bssids = list(set(wifi_bssids))\n",
    "\n",
    "wifi_bssids_size = len(wifi_bssids)\n",
    "print(f'BSSID TYPES: {wifi_bssids_size}')\n",
    "\n",
    "wifi_bssids_test = []\n",
    "for i in range(100):\n",
    "    wifi_bssids_test.extend(test_data.iloc[:,i].values.tolist())\n",
    "wifi_bssids_test = list(set(wifi_bssids_test))\n",
    "\n",
    "wifi_bssids_size = len(wifi_bssids_test)\n",
    "print(f'BSSID TYPES: {wifi_bssids_size}')\n",
    "\n",
    "wifi_bssids.extend(wifi_bssids_test)\n",
    "wifi_bssids_size = len(wifi_bssids)"
   ]
  },
  {
   "cell_type": "code",
   "execution_count": 8,
   "metadata": {
    "execution": {
     "iopub.execute_input": "2021-03-08T18:48:51.656266Z",
     "iopub.status.busy": "2021-03-08T18:48:51.655254Z",
     "iopub.status.idle": "2021-03-08T18:48:55.239754Z",
     "shell.execute_reply": "2021-03-08T18:48:55.240236Z"
    },
    "papermill": {
     "duration": 3.649801,
     "end_time": "2021-03-08T18:48:55.240438",
     "exception": false,
     "start_time": "2021-03-08T18:48:51.590637",
     "status": "completed"
    },
    "tags": []
   },
   "outputs": [
    {
     "data": {
      "text/plain": [
       "StandardScaler()"
      ]
     },
     "execution_count": 8,
     "metadata": {},
     "output_type": "execute_result"
    }
   ],
   "source": [
    "# preprocess\n",
    "\n",
    "le = LabelEncoder()\n",
    "le.fit(wifi_bssids)\n",
    "le_site = LabelEncoder()\n",
    "le_site.fit(data['site_id'])\n",
    "\n",
    "ss = StandardScaler()\n",
    "ss.fit(data.loc[:,RSSI_FEATS+['floor']])"
   ]
  },
  {
   "cell_type": "code",
   "execution_count": 9,
   "metadata": {
    "execution": {
     "iopub.execute_input": "2021-03-08T18:48:55.278974Z",
     "iopub.status.busy": "2021-03-08T18:48:55.278280Z",
     "iopub.status.idle": "2021-03-08T18:49:35.527486Z",
     "shell.execute_reply": "2021-03-08T18:49:35.526829Z"
    },
    "papermill": {
     "duration": 40.269577,
     "end_time": "2021-03-08T18:49:35.527651",
     "exception": false,
     "start_time": "2021-03-08T18:48:55.258074",
     "status": "completed"
    },
    "tags": []
   },
   "outputs": [],
   "source": [
    "data.loc[:,RSSI_FEATS+['floor']] = ss.transform(data.loc[:,RSSI_FEATS+['floor']])\n",
    "for i in BSSID_FEATS:\n",
    "    data.loc[:,i] = le.transform(data.loc[:,i])\n",
    "    data.loc[:,i] = data.loc[:,i] + 1\n",
    "    \n",
    "data.loc[:, 'site_id'] = le_site.transform(data.loc[:, 'site_id'])\n",
    "\n",
    "data.loc[:,RSSI_FEATS+['floor']] = ss.transform(data.loc[:,RSSI_FEATS+['floor']])"
   ]
  },
  {
   "cell_type": "markdown",
   "metadata": {
    "papermill": {
     "duration": 0.017332,
     "end_time": "2021-03-08T18:49:35.563414",
     "exception": false,
     "start_time": "2021-03-08T18:49:35.546082",
     "status": "completed"
    },
    "tags": []
   },
   "source": [
    "Add floor predictions."
   ]
  },
  {
   "cell_type": "code",
   "execution_count": 10,
   "metadata": {
    "execution": {
     "iopub.execute_input": "2021-03-08T18:49:35.602297Z",
     "iopub.status.busy": "2021-03-08T18:49:35.601603Z",
     "iopub.status.idle": "2021-03-08T18:49:35.648478Z",
     "shell.execute_reply": "2021-03-08T18:49:35.649016Z"
    },
    "papermill": {
     "duration": 0.068003,
     "end_time": "2021-03-08T18:49:35.649203",
     "exception": false,
     "start_time": "2021-03-08T18:49:35.581200",
     "status": "completed"
    },
    "tags": []
   },
   "outputs": [],
   "source": [
    "simple_accurate_99 = pd.read_csv('../input/simple-99-accurate-floor-model/submission.csv') "
   ]
  },
  {
   "cell_type": "code",
   "execution_count": 11,
   "metadata": {
    "execution": {
     "iopub.execute_input": "2021-03-08T18:49:35.687921Z",
     "iopub.status.busy": "2021-03-08T18:49:35.687269Z",
     "iopub.status.idle": "2021-03-08T18:49:35.692803Z",
     "shell.execute_reply": "2021-03-08T18:49:35.693361Z"
    },
    "papermill": {
     "duration": 0.026916,
     "end_time": "2021-03-08T18:49:35.693563",
     "exception": false,
     "start_time": "2021-03-08T18:49:35.666647",
     "status": "completed"
    },
    "tags": []
   },
   "outputs": [],
   "source": [
    "test_data['floor'] = simple_accurate_99['floor'].values"
   ]
  },
  {
   "cell_type": "code",
   "execution_count": 12,
   "metadata": {
    "execution": {
     "iopub.execute_input": "2021-03-08T18:49:35.732579Z",
     "iopub.status.busy": "2021-03-08T18:49:35.731899Z",
     "iopub.status.idle": "2021-03-08T18:49:39.379323Z",
     "shell.execute_reply": "2021-03-08T18:49:39.379848Z"
    },
    "papermill": {
     "duration": 3.669004,
     "end_time": "2021-03-08T18:49:39.380104",
     "exception": false,
     "start_time": "2021-03-08T18:49:35.711100",
     "status": "completed"
    },
    "tags": []
   },
   "outputs": [],
   "source": [
    "test_data.loc[:,RSSI_FEATS+['floor']] = ss.transform(test_data.loc[:,RSSI_FEATS+['floor']])\n",
    "for i in BSSID_FEATS:\n",
    "    test_data.loc[:,i] = le.transform(test_data.loc[:,i])\n",
    "    test_data.loc[:,i] = test_data.loc[:,i] + 1\n",
    "    \n",
    "test_data.loc[:, 'site_id'] = le_site.transform(test_data.loc[:, 'site_id'])\n",
    "\n",
    "test_data.loc[:,RSSI_FEATS+['floor']] = ss.transform(test_data.loc[:,RSSI_FEATS+['floor']])"
   ]
  },
  {
   "cell_type": "code",
   "execution_count": 13,
   "metadata": {
    "execution": {
     "iopub.execute_input": "2021-03-08T18:49:39.424217Z",
     "iopub.status.busy": "2021-03-08T18:49:39.423521Z",
     "iopub.status.idle": "2021-03-08T18:49:39.428274Z",
     "shell.execute_reply": "2021-03-08T18:49:39.428778Z"
    },
    "papermill": {
     "duration": 0.030607,
     "end_time": "2021-03-08T18:49:39.428977",
     "exception": false,
     "start_time": "2021-03-08T18:49:39.398370",
     "status": "completed"
    },
    "tags": []
   },
   "outputs": [],
   "source": [
    "site_count = len(data['site_id'].unique())\n",
    "data.reset_index(drop=True, inplace=True)"
   ]
  },
  {
   "cell_type": "code",
   "execution_count": 14,
   "metadata": {
    "execution": {
     "iopub.execute_input": "2021-03-08T18:49:39.468664Z",
     "iopub.status.busy": "2021-03-08T18:49:39.468015Z",
     "iopub.status.idle": "2021-03-08T18:49:39.489082Z",
     "shell.execute_reply": "2021-03-08T18:49:39.488282Z"
    },
    "papermill": {
     "duration": 0.042109,
     "end_time": "2021-03-08T18:49:39.489254",
     "exception": false,
     "start_time": "2021-03-08T18:49:39.447145",
     "status": "completed"
    },
    "tags": []
   },
   "outputs": [],
   "source": [
    "set_seed(SEED)"
   ]
  },
  {
   "cell_type": "markdown",
   "metadata": {
    "papermill": {
     "duration": 0.01759,
     "end_time": "2021-03-08T18:49:39.525075",
     "exception": false,
     "start_time": "2021-03-08T18:49:39.507485",
     "status": "completed"
    },
    "tags": []
   },
   "source": [
    "## The model\n",
    "The first Embedding layer is very important. <br>\n",
    "Thanks to the layer, we can make sense of these BSSID features. <br>\n",
    "<br>\n",
    "We concatenate all the features and put them into LSTM. <br>\n",
    "<br>\n",
    "If something is theoritically wrong, please correct me. Thank you in advance. "
   ]
  },
  {
   "cell_type": "code",
   "execution_count": 15,
   "metadata": {
    "execution": {
     "iopub.execute_input": "2021-03-08T18:49:39.575650Z",
     "iopub.status.busy": "2021-03-08T18:49:39.574899Z",
     "iopub.status.idle": "2021-03-08T18:49:39.577197Z",
     "shell.execute_reply": "2021-03-08T18:49:39.577655Z"
    },
    "papermill": {
     "duration": 0.034624,
     "end_time": "2021-03-08T18:49:39.577875",
     "exception": false,
     "start_time": "2021-03-08T18:49:39.543251",
     "status": "completed"
    },
    "tags": []
   },
   "outputs": [],
   "source": [
    "def create_model(input_data):\n",
    "\n",
    "    # bssid feats\n",
    "    input_dim = input_data[0].shape[1]\n",
    "\n",
    "    input_embd_layer = L.Input(shape=(input_dim,))\n",
    "    x1 = L.Embedding(wifi_bssids_size, 64)(input_embd_layer)\n",
    "    x1 = L.Flatten()(x1)\n",
    "\n",
    "    # rssi feats\n",
    "    input_dim = input_data[1].shape[1]\n",
    "\n",
    "    input_layer = L.Input(input_dim, )\n",
    "    x2 = L.BatchNormalization()(input_layer)\n",
    "    x2 = L.Dense(NUM_FEATS * 64, activation='relu')(x2)\n",
    "\n",
    "    # site\n",
    "    input_site_layer = L.Input(shape=(1,))\n",
    "    x3 = L.Embedding(site_count, 1)(input_site_layer)\n",
    "    x3 = L.Flatten()(x3)\n",
    "\n",
    "    # main stream\n",
    "    x = L.Concatenate(axis=1)([x1, x3, x2])\n",
    "\n",
    "    x = L.BatchNormalization()(x)\n",
    "    x = L.Dropout(0.3)(x)\n",
    "    x = L.Dense(256, activation='relu')(x)\n",
    "\n",
    "    x = L.Reshape((1, -1))(x)\n",
    "    x = L.BatchNormalization()(x)\n",
    "    #x = L.LSTM(128, dropout=0.3, recurrent_dropout=0.3, return_sequences=True, activation='relu')(x)\n",
    "    x = L.LSTM(256, dropout=0.3, recurrent_dropout=0.3, return_sequences=True, activation='relu')(x)\n",
    "    x = L.LSTM(16, dropout=0.1, return_sequences=False, activation='relu')(x)\n",
    "\n",
    "    \n",
    "    output_layer_1 = L.Dense(2, name='xy')(x)\n",
    "    #output_layer_2 = L.Dense(1, activation='softmax', name='floor')(x)\n",
    "\n",
    "    model = M.Model([input_embd_layer, input_layer, input_site_layer], \n",
    "                    [output_layer_1])\n",
    "\n",
    "    model.compile(optimizer=tf.optimizers.Adam(lr=0.001),\n",
    "                  loss='mse', metrics=['mse'])\n",
    "\n",
    "    return model"
   ]
  },
  {
   "cell_type": "code",
   "execution_count": 16,
   "metadata": {
    "execution": {
     "iopub.execute_input": "2021-03-08T18:49:39.619112Z",
     "iopub.status.busy": "2021-03-08T18:49:39.618281Z",
     "iopub.status.idle": "2021-03-08T21:00:12.173910Z",
     "shell.execute_reply": "2021-03-08T21:00:12.173226Z"
    },
    "papermill": {
     "duration": 7832.577565,
     "end_time": "2021-03-08T21:00:12.174117",
     "exception": false,
     "start_time": "2021-03-08T18:49:39.596552",
     "status": "completed"
    },
    "tags": []
   },
   "outputs": [
    {
     "name": "stderr",
     "output_type": "stream",
     "text": [
      "/opt/conda/lib/python3.7/site-packages/sklearn/model_selection/_split.py:668: UserWarning: The least populated class in y has only 1 members, which is less than n_splits=10.\n",
      "  % (min_groups, self.n_splits)), UserWarning)\n"
     ]
    },
    {
     "name": "stdout",
     "output_type": "stream",
     "text": [
      "Epoch 1/1000\n",
      "1815/1815 [==============================] - 169s 90ms/step - loss: 2420.4434 - mse: 2420.4434 - val_loss: 81.1210 - val_mse: 81.1210\n",
      "Epoch 2/1000\n",
      "1815/1815 [==============================] - 163s 90ms/step - loss: 184.6243 - mse: 184.6243 - val_loss: 65.2110 - val_mse: 65.2110\n",
      "Epoch 3/1000\n",
      "1815/1815 [==============================] - 164s 90ms/step - loss: 148.7120 - mse: 148.7120 - val_loss: 55.7797 - val_mse: 55.7797\n",
      "Epoch 4/1000\n",
      "1815/1815 [==============================] - 166s 91ms/step - loss: 125.7409 - mse: 125.7409 - val_loss: 49.8325 - val_mse: 49.8325\n",
      "Epoch 5/1000\n",
      "1815/1815 [==============================] - 167s 92ms/step - loss: 110.5230 - mse: 110.5230 - val_loss: 42.8975 - val_mse: 42.8975\n",
      "Epoch 6/1000\n",
      "1815/1815 [==============================] - 163s 90ms/step - loss: 96.3122 - mse: 96.3122 - val_loss: 42.0124 - val_mse: 42.0124\n",
      "Epoch 7/1000\n",
      "1815/1815 [==============================] - 162s 89ms/step - loss: 84.9532 - mse: 84.9532 - val_loss: 38.4090 - val_mse: 38.4090\n",
      "Epoch 8/1000\n",
      "1815/1815 [==============================] - 166s 91ms/step - loss: 73.6179 - mse: 73.6179 - val_loss: 37.6640 - val_mse: 37.6640\n",
      "Epoch 9/1000\n",
      "1815/1815 [==============================] - 162s 89ms/step - loss: 64.7068 - mse: 64.7068 - val_loss: 34.1787 - val_mse: 34.1787\n",
      "Epoch 10/1000\n",
      "1815/1815 [==============================] - 164s 91ms/step - loss: 57.4730 - mse: 57.4730 - val_loss: 33.3948 - val_mse: 33.3948\n",
      "Epoch 11/1000\n",
      "1815/1815 [==============================] - 166s 92ms/step - loss: 51.7850 - mse: 51.7850 - val_loss: 34.3749 - val_mse: 34.3749\n",
      "Epoch 12/1000\n",
      "1815/1815 [==============================] - 163s 90ms/step - loss: 48.1896 - mse: 48.1896 - val_loss: 36.8123 - val_mse: 36.8123\n",
      "Epoch 13/1000\n",
      "1815/1815 [==============================] - 160s 88ms/step - loss: 44.7395 - mse: 44.7395 - val_loss: 31.4927 - val_mse: 31.4927\n",
      "Epoch 14/1000\n",
      "1815/1815 [==============================] - 160s 88ms/step - loss: 41.9904 - mse: 41.9904 - val_loss: 33.4522 - val_mse: 33.4522\n",
      "Epoch 15/1000\n",
      "1815/1815 [==============================] - 159s 88ms/step - loss: 39.5417 - mse: 39.5417 - val_loss: 27.4859 - val_mse: 27.4859\n",
      "Epoch 16/1000\n",
      "1815/1815 [==============================] - 161s 89ms/step - loss: 37.5599 - mse: 37.5599 - val_loss: 27.2602 - val_mse: 27.2602\n",
      "Epoch 17/1000\n",
      "1815/1815 [==============================] - 164s 91ms/step - loss: 35.5195 - mse: 35.5195 - val_loss: 26.7389 - val_mse: 26.7389\n",
      "Epoch 18/1000\n",
      "1815/1815 [==============================] - 162s 89ms/step - loss: 34.0527 - mse: 34.0527 - val_loss: 26.9413 - val_mse: 26.9413\n",
      "Epoch 19/1000\n",
      "1815/1815 [==============================] - 163s 90ms/step - loss: 32.9217 - mse: 32.9217 - val_loss: 29.0944 - val_mse: 29.0944\n",
      "Epoch 20/1000\n",
      "1815/1815 [==============================] - 164s 90ms/step - loss: 31.4646 - mse: 31.4646 - val_loss: 26.4964 - val_mse: 26.4964\n",
      "Epoch 21/1000\n",
      "1815/1815 [==============================] - 159s 88ms/step - loss: 30.5379 - mse: 30.5379 - val_loss: 25.8319 - val_mse: 25.8319\n",
      "Epoch 22/1000\n",
      "1815/1815 [==============================] - 166s 91ms/step - loss: 29.5516 - mse: 29.5516 - val_loss: 25.9736 - val_mse: 25.9736\n",
      "Epoch 23/1000\n",
      "1815/1815 [==============================] - 160s 88ms/step - loss: 28.4731 - mse: 28.4731 - val_loss: 26.4945 - val_mse: 26.4945\n",
      "Epoch 24/1000\n",
      "1815/1815 [==============================] - 159s 88ms/step - loss: 27.7414 - mse: 27.7414 - val_loss: 25.1084 - val_mse: 25.1084\n",
      "Epoch 25/1000\n",
      "1815/1815 [==============================] - 169s 93ms/step - loss: 26.9210 - mse: 26.9210 - val_loss: 25.2284 - val_mse: 25.2284\n",
      "Epoch 26/1000\n",
      "1815/1815 [==============================] - 160s 88ms/step - loss: 26.2638 - mse: 26.2638 - val_loss: 29.4837 - val_mse: 29.4837\n",
      "Epoch 27/1000\n",
      "1815/1815 [==============================] - 159s 87ms/step - loss: 25.6574 - mse: 25.6574 - val_loss: 24.4085 - val_mse: 24.4085\n",
      "Epoch 28/1000\n",
      "1815/1815 [==============================] - 166s 91ms/step - loss: 24.6105 - mse: 24.6105 - val_loss: 24.5820 - val_mse: 24.5820\n",
      "Epoch 29/1000\n",
      "1815/1815 [==============================] - 164s 90ms/step - loss: 24.1660 - mse: 24.1660 - val_loss: 26.2276 - val_mse: 26.2276\n",
      "Epoch 30/1000\n",
      "1815/1815 [==============================] - 170s 94ms/step - loss: 24.0260 - mse: 24.0260 - val_loss: 25.1082 - val_mse: 25.1082\n",
      "\n",
      "Epoch 00030: ReduceLROnPlateau reducing learning rate to 0.00010000000474974513.\n",
      "Epoch 31/1000\n",
      "1815/1815 [==============================] - 162s 89ms/step - loss: 21.4247 - mse: 21.4247 - val_loss: 22.5083 - val_mse: 22.5083\n",
      "Epoch 32/1000\n",
      "1815/1815 [==============================] - 168s 93ms/step - loss: 20.6374 - mse: 20.6374 - val_loss: 22.5195 - val_mse: 22.5195\n",
      "Epoch 33/1000\n",
      "1815/1815 [==============================] - 164s 90ms/step - loss: 20.3192 - mse: 20.3192 - val_loss: 22.1334 - val_mse: 22.1334\n",
      "Epoch 34/1000\n",
      "1815/1815 [==============================] - 167s 92ms/step - loss: 20.0299 - mse: 20.0299 - val_loss: 22.2625 - val_mse: 22.2625\n",
      "Epoch 35/1000\n",
      "1815/1815 [==============================] - 162s 89ms/step - loss: 19.6702 - mse: 19.6702 - val_loss: 21.9439 - val_mse: 21.9439\n",
      "Epoch 36/1000\n",
      "1815/1815 [==============================] - 164s 90ms/step - loss: 19.6256 - mse: 19.6256 - val_loss: 22.1288 - val_mse: 22.1288\n",
      "Epoch 37/1000\n",
      "1815/1815 [==============================] - 160s 88ms/step - loss: 19.5059 - mse: 19.5059 - val_loss: 22.2805 - val_mse: 22.2805\n",
      "Epoch 38/1000\n",
      "1815/1815 [==============================] - 158s 87ms/step - loss: 19.3759 - mse: 19.3759 - val_loss: 22.2679 - val_mse: 22.2679\n",
      "\n",
      "Epoch 00038: ReduceLROnPlateau reducing learning rate to 1.0000000474974514e-05.\n",
      "Epoch 39/1000\n",
      "1815/1815 [==============================] - 162s 89ms/step - loss: 19.1665 - mse: 19.1665 - val_loss: 21.9431 - val_mse: 21.9431\n",
      "Epoch 40/1000\n",
      "1815/1815 [==============================] - 166s 91ms/step - loss: 19.0404 - mse: 19.0404 - val_loss: 21.9670 - val_mse: 21.9670\n",
      "Epoch 41/1000\n",
      "1815/1815 [==============================] - 161s 88ms/step - loss: 19.1359 - mse: 19.1359 - val_loss: 22.2276 - val_mse: 22.2276\n",
      "Epoch 42/1000\n",
      "1815/1815 [==============================] - 163s 90ms/step - loss: 18.9488 - mse: 18.9488 - val_loss: 22.1234 - val_mse: 22.1234\n",
      "\n",
      "Epoch 00042: ReduceLROnPlateau reducing learning rate to 1.0000000656873453e-06.\n",
      "Epoch 43/1000\n",
      "1815/1815 [==============================] - 159s 88ms/step - loss: 18.8748 - mse: 18.8748 - val_loss: 21.8202 - val_mse: 21.8202\n",
      "Epoch 44/1000\n",
      "1815/1815 [==============================] - 170s 94ms/step - loss: 18.8702 - mse: 18.8702 - val_loss: 22.1095 - val_mse: 22.1095\n",
      "Epoch 45/1000\n",
      "1815/1815 [==============================] - 161s 89ms/step - loss: 18.9120 - mse: 18.9120 - val_loss: 22.0539 - val_mse: 22.0539\n",
      "Epoch 46/1000\n",
      "1815/1815 [==============================] - 158s 87ms/step - loss: 18.7683 - mse: 18.7683 - val_loss: 21.8664 - val_mse: 21.8664\n",
      "\n",
      "Epoch 00046: ReduceLROnPlateau reducing learning rate to 1.0000001111620805e-07.\n",
      "Epoch 47/1000\n",
      "1815/1815 [==============================] - 161s 89ms/step - loss: 18.9375 - mse: 18.9375 - val_loss: 22.0854 - val_mse: 22.0854\n",
      "Epoch 48/1000\n",
      "1815/1815 [==============================] - 156s 86ms/step - loss: 18.8219 - mse: 18.8219 - val_loss: 21.9824 - val_mse: 21.9824\n",
      "*+*+*+*+*+*+*+*+*+*+*+*+*+*+*+*+*+*+*+*+*+*+*+*+*+*+*+*+*+*+*+*+*+*+*+*+*+*+*+*+\n",
      "*+*+*+*+*+*+*+*+*+*+*+*+*+*+*+*+*+*+*+*+*+*+*+*+*+*+*+*+*+*+*+*+*+*+*+*+*+*+*+*+\n"
     ]
    }
   ],
   "source": [
    "score_df = pd.DataFrame()\n",
    "predictions = list()\n",
    "\n",
    "preds_x, preds_y = 0, 0\n",
    "preds_f_arr = np.zeros((test_data.shape[0], N_SPLITS))\n",
    "\n",
    "for fold, (trn_idx, val_idx) in enumerate(StratifiedKFold(n_splits=N_SPLITS, shuffle=True, random_state=SEED).split(data.loc[:, 'path'], data.loc[:, 'path'])):\n",
    "    X_train = data.loc[trn_idx, BSSID_FEATS + RSSI_FEATS + ['floor','site_id']]\n",
    "    y_trainx = data.loc[trn_idx, 'x']\n",
    "    y_trainy = data.loc[trn_idx, 'y']\n",
    "    y_trainf = data.loc[trn_idx, 'floor']\n",
    "\n",
    "    tmp = pd.concat([y_trainx, y_trainy], axis=1)\n",
    "    #y_train = [tmp, y_trainf]\n",
    "    y_train = tmp\n",
    "\n",
    "    X_valid = data.loc[val_idx, BSSID_FEATS + RSSI_FEATS + ['floor','site_id']]\n",
    "    y_validx = data.loc[val_idx, 'x']\n",
    "    y_validy = data.loc[val_idx, 'y']\n",
    "    y_validf = data.loc[val_idx, 'floor']\n",
    "\n",
    "    tmp = pd.concat([y_validx, y_validy], axis=1)\n",
    "    #y_valid = [tmp, y_validf]\n",
    "    y_valid = tmp\n",
    "\n",
    "    model = create_model([X_train.loc[:,BSSID_FEATS], X_train.loc[:,RSSI_FEATS+['floor']], X_train.loc[:,'site_id']])\n",
    "    model.fit([X_train.loc[:,BSSID_FEATS], X_train.loc[:,RSSI_FEATS+['floor']], X_train.loc[:,'site_id']], y_train, \n",
    "                validation_data=([X_valid.loc[:,BSSID_FEATS], X_valid.loc[:,RSSI_FEATS+['floor']], X_valid.loc[:,'site_id']], y_valid), \n",
    "                batch_size=128, epochs=1000,\n",
    "                callbacks=[\n",
    "                ReduceLROnPlateau(monitor='val_loss', factor=0.1, patience=3, verbose=1, min_delta=1e-4, mode='min')\n",
    "                , ModelCheckpoint(f'{base_path}/RNN_{SEED}_{fold}.hdf5', monitor='val_loss', verbose=0, save_best_only=True, save_weights_only=True, mode='min')\n",
    "                , EarlyStopping(monitor='val_loss', min_delta=1e-4, patience=5, mode='min', baseline=None, restore_best_weights=True)\n",
    "            ])\n",
    "\n",
    "    model.load_weights(f'{base_path}/RNN_{SEED}_{fold}.hdf5')\n",
    "    #val_pred = model.predict([X_valid.loc[:,BSSID_FEATS], X_valid.loc[:,RSSI_FEATS], X_valid.loc[:,'site_id'], X_valid.loc[:,'floor']])\n",
    "\n",
    "    pred = model.predict([test_data.loc[:,BSSID_FEATS], test_data.loc[:,RSSI_FEATS+['floor']], test_data.loc[:,'site_id']]) # test_data.iloc[:, :-1])\n",
    "    preds_x += pred[:,0]\n",
    "    preds_y += pred[:,1]\n",
    "    #preds_f_arr[:, fold] = pred[1][:,0].astype(int)\n",
    "\n",
    "    \n",
    "\n",
    "    break # for demonstration, run just one fold as it takes much time.\n",
    "\n",
    "preds_x /= (fold + 1)\n",
    "preds_y /= (fold + 1)\n",
    "    \n",
    "print(\"*+\"*40)\n",
    "print(\"*+\"*40)\n",
    "\n",
    "#preds_f_mode = stats.mode(preds_f_arr, axis=1)\n",
    "#preds_f = preds_f_mode[0].astype(int).reshape(-1)\n",
    "preds_f = test_data['floor']\n",
    "test_preds = pd.DataFrame(np.stack((preds_f, preds_x, preds_y))).T\n",
    "test_preds.columns = subm.columns\n",
    "test_preds.index = test_data[\"site_path_timestamp\"]\n",
    "test_preds[\"floor\"] = test_preds[\"floor\"].astype(int)\n",
    "predictions.append(test_preds)"
   ]
  },
  {
   "cell_type": "code",
   "execution_count": 17,
   "metadata": {
    "execution": {
     "iopub.execute_input": "2021-03-08T21:01:07.112943Z",
     "iopub.status.busy": "2021-03-08T21:01:07.111947Z",
     "iopub.status.idle": "2021-03-08T21:01:07.116445Z",
     "shell.execute_reply": "2021-03-08T21:01:07.115759Z"
    },
    "papermill": {
     "duration": 27.421309,
     "end_time": "2021-03-08T21:01:07.116610",
     "exception": false,
     "start_time": "2021-03-08T21:00:39.695301",
     "status": "completed"
    },
    "tags": []
   },
   "outputs": [],
   "source": [
    "all_preds = pd.concat(predictions)\n",
    "all_preds = all_preds.reindex(subm.index)"
   ]
  },
  {
   "cell_type": "markdown",
   "metadata": {
    "papermill": {
     "duration": 27.393618,
     "end_time": "2021-03-08T21:02:01.913274",
     "exception": false,
     "start_time": "2021-03-08T21:01:34.519656",
     "status": "completed"
    },
    "tags": []
   },
   "source": [
    "## Fix the floor prediction\n",
    "So far, it is not successfully make the \"floor\" prediction part with this dataset. <br>\n",
    "To make it right, we can incorporate [@nigelhenry](https://www.kaggle.com/nigelhenry/)'s [excellent work](https://www.kaggle.com/nigelhenry/simple-99-accurate-floor-model). <br>"
   ]
  },
  {
   "cell_type": "code",
   "execution_count": 18,
   "metadata": {
    "execution": {
     "iopub.execute_input": "2021-03-08T21:02:56.764395Z",
     "iopub.status.busy": "2021-03-08T21:02:56.763675Z",
     "iopub.status.idle": "2021-03-08T21:02:56.798814Z",
     "shell.execute_reply": "2021-03-08T21:02:56.798169Z"
    },
    "papermill": {
     "duration": 27.355186,
     "end_time": "2021-03-08T21:02:56.799018",
     "exception": false,
     "start_time": "2021-03-08T21:02:29.443832",
     "status": "completed"
    },
    "tags": []
   },
   "outputs": [],
   "source": [
    "simple_accurate_99 = pd.read_csv('../input/simple-99-accurate-floor-model/submission.csv')\n",
    "\n",
    "all_preds['floor'] = simple_accurate_99['floor'].values"
   ]
  },
  {
   "cell_type": "code",
   "execution_count": 19,
   "metadata": {
    "execution": {
     "iopub.execute_input": "2021-03-08T21:03:51.740284Z",
     "iopub.status.busy": "2021-03-08T21:03:51.739330Z",
     "iopub.status.idle": "2021-03-08T21:03:51.821624Z",
     "shell.execute_reply": "2021-03-08T21:03:51.820935Z"
    },
    "papermill": {
     "duration": 27.593519,
     "end_time": "2021-03-08T21:03:51.821804",
     "exception": false,
     "start_time": "2021-03-08T21:03:24.228285",
     "status": "completed"
    },
    "tags": []
   },
   "outputs": [],
   "source": [
    "all_preds.to_csv('submission.csv')"
   ]
  }
 ],
 "metadata": {
  "kernelspec": {
   "display_name": "Python 3",
   "language": "python",
   "name": "python3"
  },
  "language_info": {
   "codemirror_mode": {
    "name": "ipython",
    "version": 3
   },
   "file_extension": ".py",
   "mimetype": "text/x-python",
   "name": "python",
   "nbconvert_exporter": "python",
   "pygments_lexer": "ipython3",
   "version": "3.8.8"
  },
  "papermill": {
   "default_parameters": {},
   "duration": 8233.224271,
   "end_time": "2021-03-08T21:05:19.991855",
   "environment_variables": {},
   "exception": null,
   "input_path": "__notebook__.ipynb",
   "output_path": "__notebook__.ipynb",
   "parameters": {},
   "start_time": "2021-03-08T18:48:06.767584",
   "version": "2.2.2"
  }
 },
 "nbformat": 4,
 "nbformat_minor": 4
}
