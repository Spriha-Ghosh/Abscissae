{
 "cells": [
  {
   "cell_type": "markdown",
   "metadata": {
    "papermill": {
     "duration": 0.013162,
     "end_time": "2021-03-12T06:17:13.125420",
     "exception": false,
     "start_time": "2021-03-12T06:17:13.112258",
     "status": "completed"
    },
    "tags": []
   },
   "source": [
    "# **Thanks for Kouki's sharing[LSTM by Keras with Unified Wi-Fi Feats](http://www.kaggle.com/kokitanisaka/lstm-by-keras-with-unified-wi-fi-feats), I just make a little change to it, I am used to writing codes with pytorch, So as you can see, I changed keras code to pytorch, socre 7.53**"
   ]
  },
  {
   "cell_type": "markdown",
   "metadata": {
    "papermill": {
     "duration": 0.011722,
     "end_time": "2021-03-12T06:17:13.149171",
     "exception": false,
     "start_time": "2021-03-12T06:17:13.137449",
     "status": "completed"
    },
    "tags": []
   },
   "source": [
    "## Overview\n",
    "\n",
    "It demonstrats how to utilize [the unified Wi-Fi dataset](https://www.kaggle.com/kokitanisaka/indoorunifiedwifids).<br>\n",
    "The Neural Net model is not optimized, there's much space to improve the score. \n",
    "\n",
    "In this notebook, I refer these two excellent notebooks.\n",
    "* [wifi features with lightgbm/KFold](https://www.kaggle.com/hiro5299834/wifi-features-with-lightgbm-kfold) by [@hiro5299834](https://www.kaggle.com/hiro5299834/)<br>\n",
    " I took some code fragments from his notebook.\n",
    "* [Simple 👌 99% Accurate Floor Model 💯](https://www.kaggle.com/nigelhenry/simple-99-accurate-floor-model) by [@nigelhenry](https://www.kaggle.com/nigelhenry/)<br>\n",
    " I use his excellent work, the \"floor\" prediction.\n",
    "\n",
    "It takes much much time to finish learning. <br>\n",
    "And even though I enable the GPU, it doesn't help. <br>\n",
    "If anybody knows how to make it better, can you please make a comment? <br>\n",
    "\n",
    "Thank you!"
   ]
  },
  {
   "cell_type": "code",
   "execution_count": 1,
   "metadata": {
    "execution": {
     "iopub.execute_input": "2021-03-12T06:17:13.179165Z",
     "iopub.status.busy": "2021-03-12T06:17:13.178562Z",
     "iopub.status.idle": "2021-03-12T06:17:15.644237Z",
     "shell.execute_reply": "2021-03-12T06:17:15.643117Z"
    },
    "papermill": {
     "duration": 2.483157,
     "end_time": "2021-03-12T06:17:15.644435",
     "exception": false,
     "start_time": "2021-03-12T06:17:13.161278",
     "status": "completed"
    },
    "tags": []
   },
   "outputs": [],
   "source": [
    "import numpy as np\n",
    "import pandas as pd\n",
    "import scipy.stats as stats\n",
    "from pathlib import Path\n",
    "import glob\n",
    "import pickle\n",
    "from tqdm import tqdm\n",
    "import random\n",
    "import os\n",
    "import copy\n",
    "from sklearn.model_selection import StratifiedKFold\n",
    "from sklearn.preprocessing import StandardScaler, LabelEncoder\n",
    "import torch\n",
    "from torch import nn\n",
    "from torch.utils.data import Dataset, DataLoader"
   ]
  },
  {
   "cell_type": "markdown",
   "metadata": {
    "papermill": {
     "duration": 0.011845,
     "end_time": "2021-03-12T06:17:15.668680",
     "exception": false,
     "start_time": "2021-03-12T06:17:15.656835",
     "status": "completed"
    },
    "tags": []
   },
   "source": [
    "### options\n",
    "We can change the way it learns with these options. <br>\n",
    "Especialy **NUM_FEATS** is one of the most important options. <br>\n",
    "It determines how many features are used in the training. <br>\n",
    "We have 100 Wi-Fi features in the dataset, but 100th Wi-Fi signal sounds not important, right? <br>\n",
    "So we can use top Wi-Fi signals if we think we need to. "
   ]
  },
  {
   "cell_type": "code",
   "execution_count": 2,
   "metadata": {
    "execution": {
     "iopub.execute_input": "2021-03-12T06:17:15.698057Z",
     "iopub.status.busy": "2021-03-12T06:17:15.696339Z",
     "iopub.status.idle": "2021-03-12T06:17:15.698687Z",
     "shell.execute_reply": "2021-03-12T06:17:15.699087Z"
    },
    "papermill": {
     "duration": 0.018513,
     "end_time": "2021-03-12T06:17:15.699207",
     "exception": false,
     "start_time": "2021-03-12T06:17:15.680694",
     "status": "completed"
    },
    "tags": []
   },
   "outputs": [],
   "source": [
    "# options\n",
    "\n",
    "N_SPLITS = 10\n",
    "\n",
    "SEED = 2021\n",
    "\n",
    "NUM_FEATS = 20 # number of features that we use. there are 100 feats but we don't need to use all of them\n",
    "\n",
    "base_path = '/kaggle'"
   ]
  },
  {
   "cell_type": "code",
   "execution_count": 3,
   "metadata": {
    "_cell_guid": "b1076dfc-b9ad-4769-8c92-a6c4dae69d19",
    "_uuid": "8f2839f25d086af736a60e9eeb907d3b93b6e0e5",
    "execution": {
     "iopub.execute_input": "2021-03-12T06:17:15.730323Z",
     "iopub.status.busy": "2021-03-12T06:17:15.729816Z",
     "iopub.status.idle": "2021-03-12T06:17:15.733547Z",
     "shell.execute_reply": "2021-03-12T06:17:15.733136Z"
    },
    "papermill": {
     "duration": 0.022341,
     "end_time": "2021-03-12T06:17:15.733660",
     "exception": false,
     "start_time": "2021-03-12T06:17:15.711319",
     "status": "completed"
    },
    "tags": []
   },
   "outputs": [],
   "source": [
    "def set_seed(seed=42):\n",
    "    random.seed(seed)\n",
    "    os.environ['PYTHONHASHSEED'] = str(seed)\n",
    "    np.random.seed(seed)\n",
    "    torch.backends.cudnn.deterministic = True\n",
    "    torch.backends.cudnn.benchmark = False\n",
    "    torch.manual_seed(seed)\n",
    "    torch.cuda.manual_seed_all(seed)\n",
    "def get_timestamp():\n",
    "    import time\n",
    "    timestamp = ''\n",
    "    for i, d in enumerate(time.localtime()):\n",
    "        if i == 3:\n",
    "            d += 8\n",
    "        timestamp += str(d) + '-'\n",
    "        if i == 4:\n",
    "            break\n",
    "    return timestamp[:-1]\n",
    "def comp_metric(xhat, yhat, fhat, x, y, f):\n",
    "    intermediate = np.sqrt((xhat-x)**2 + (yhat-y)**2) + 15 * np.abs(fhat-f)\n",
    "#     intermediate = np.sqrt((xhat-x)**2 + (yhat-y)**2)\n",
    "    return intermediate.sum()/xhat.shape[0]"
   ]
  },
  {
   "cell_type": "code",
   "execution_count": 4,
   "metadata": {
    "execution": {
     "iopub.execute_input": "2021-03-12T06:17:15.762083Z",
     "iopub.status.busy": "2021-03-12T06:17:15.761543Z",
     "iopub.status.idle": "2021-03-12T06:17:15.812542Z",
     "shell.execute_reply": "2021-03-12T06:17:15.812083Z"
    },
    "papermill": {
     "duration": 0.066858,
     "end_time": "2021-03-12T06:17:15.812668",
     "exception": false,
     "start_time": "2021-03-12T06:17:15.745810",
     "status": "completed"
    },
    "tags": []
   },
   "outputs": [],
   "source": [
    "feature_dir = f\"{base_path}/input/indoorunifiedwifids\"\n",
    "train_files = sorted(glob.glob(os.path.join(feature_dir, '*_train.csv')))\n",
    "test_files = sorted(glob.glob(os.path.join(feature_dir, '*_test.csv')))\n",
    "subm = pd.read_csv(f'{base_path}/input/indoor-location-navigation/sample_submission.csv', index_col=0)"
   ]
  },
  {
   "cell_type": "code",
   "execution_count": 5,
   "metadata": {
    "execution": {
     "iopub.execute_input": "2021-03-12T06:17:15.840927Z",
     "iopub.status.busy": "2021-03-12T06:17:15.840395Z",
     "iopub.status.idle": "2021-03-12T06:17:35.106116Z",
     "shell.execute_reply": "2021-03-12T06:17:35.104788Z"
    },
    "papermill": {
     "duration": 19.281291,
     "end_time": "2021-03-12T06:17:35.106257",
     "exception": false,
     "start_time": "2021-03-12T06:17:15.824966",
     "status": "completed"
    },
    "tags": []
   },
   "outputs": [],
   "source": [
    "with open(f'{feature_dir}/train_all.pkl', 'rb') as f:\n",
    "  data = pickle.load( f)\n",
    "\n",
    "with open(f'{feature_dir}/test_all.pkl', 'rb') as f:\n",
    "  test_data = pickle.load(f)"
   ]
  },
  {
   "cell_type": "code",
   "execution_count": 6,
   "metadata": {
    "execution": {
     "iopub.execute_input": "2021-03-12T06:17:35.138429Z",
     "iopub.status.busy": "2021-03-12T06:17:35.136709Z",
     "iopub.status.idle": "2021-03-12T06:17:35.139009Z",
     "shell.execute_reply": "2021-03-12T06:17:35.139385Z"
    },
    "papermill": {
     "duration": 0.020264,
     "end_time": "2021-03-12T06:17:35.139514",
     "exception": false,
     "start_time": "2021-03-12T06:17:35.119250",
     "status": "completed"
    },
    "tags": []
   },
   "outputs": [],
   "source": [
    "# training target features\n",
    "BSSID_FEATS = [f'bssid_{i}' for i in range(NUM_FEATS)]\n",
    "RSSI_FEATS  = [f'rssi_{i}' for i in range(NUM_FEATS)]"
   ]
  },
  {
   "cell_type": "code",
   "execution_count": 7,
   "metadata": {
    "execution": {
     "iopub.execute_input": "2021-03-12T06:17:35.202035Z",
     "iopub.status.busy": "2021-03-12T06:17:35.200573Z",
     "iopub.status.idle": "2021-03-12T06:17:38.715084Z",
     "shell.execute_reply": "2021-03-12T06:17:38.716039Z"
    },
    "papermill": {
     "duration": 3.564125,
     "end_time": "2021-03-12T06:17:38.716244",
     "exception": false,
     "start_time": "2021-03-12T06:17:35.152119",
     "status": "completed"
    },
    "tags": []
   },
   "outputs": [
    {
     "name": "stdout",
     "output_type": "stream",
     "text": [
      "BSSID TYPES: 61206\n",
      "BSSID TYPES: 33042\n"
     ]
    }
   ],
   "source": [
    "# get numbers of bssids to embed them in a layer\n",
    "\n",
    "wifi_bssids = []\n",
    "for i in range(100):\n",
    "    wifi_bssids.extend(data.iloc[:,i].values.tolist())\n",
    "wifi_bssids = list(set(wifi_bssids))\n",
    "\n",
    "wifi_bssids_size = len(wifi_bssids)\n",
    "print(f'BSSID TYPES: {wifi_bssids_size}')\n",
    "\n",
    "wifi_bssids_test = []\n",
    "for i in range(100):\n",
    "    wifi_bssids_test.extend(test_data.iloc[:,i].values.tolist())\n",
    "wifi_bssids_test = list(set(wifi_bssids_test))\n",
    "\n",
    "wifi_bssids_size = len(wifi_bssids_test)\n",
    "print(f'BSSID TYPES: {wifi_bssids_size}')\n",
    "\n",
    "wifi_bssids.extend(wifi_bssids_test)\n",
    "wifi_bssids_size = len(wifi_bssids)"
   ]
  },
  {
   "cell_type": "code",
   "execution_count": 8,
   "metadata": {
    "execution": {
     "iopub.execute_input": "2021-03-12T06:17:38.798761Z",
     "iopub.status.busy": "2021-03-12T06:17:38.797954Z",
     "iopub.status.idle": "2021-03-12T06:17:41.568248Z",
     "shell.execute_reply": "2021-03-12T06:17:41.567423Z"
    },
    "papermill": {
     "duration": 2.83153,
     "end_time": "2021-03-12T06:17:41.568385",
     "exception": false,
     "start_time": "2021-03-12T06:17:38.736855",
     "status": "completed"
    },
    "tags": []
   },
   "outputs": [
    {
     "data": {
      "text/plain": [
       "StandardScaler()"
      ]
     },
     "execution_count": 8,
     "metadata": {},
     "output_type": "execute_result"
    }
   ],
   "source": [
    "# preprocess\n",
    "\n",
    "le = LabelEncoder()\n",
    "le.fit(wifi_bssids)\n",
    "le_site = LabelEncoder()\n",
    "le_site.fit(data['site_id'])\n",
    "\n",
    "ss = StandardScaler()\n",
    "ss.fit(data.loc[:,RSSI_FEATS])"
   ]
  },
  {
   "cell_type": "code",
   "execution_count": 9,
   "metadata": {
    "execution": {
     "iopub.execute_input": "2021-03-12T06:17:41.618578Z",
     "iopub.status.busy": "2021-03-12T06:17:41.617516Z",
     "iopub.status.idle": "2021-03-12T06:18:11.783402Z",
     "shell.execute_reply": "2021-03-12T06:18:11.782422Z"
    },
    "papermill": {
     "duration": 30.201478,
     "end_time": "2021-03-12T06:18:11.783546",
     "exception": false,
     "start_time": "2021-03-12T06:17:41.582068",
     "status": "completed"
    },
    "tags": []
   },
   "outputs": [],
   "source": [
    "data.loc[:,RSSI_FEATS] = ss.transform(data.loc[:,RSSI_FEATS])\n",
    "for i in BSSID_FEATS:\n",
    "    data.loc[:,i] = le.transform(data.loc[:,i])\n",
    "    data.loc[:,i] = data.loc[:,i] + 1\n",
    "    \n",
    "data.loc[:, 'site_id'] = le_site.transform(data.loc[:, 'site_id'])\n",
    "\n",
    "data.loc[:,RSSI_FEATS] = ss.transform(data.loc[:,RSSI_FEATS])"
   ]
  },
  {
   "cell_type": "code",
   "execution_count": 10,
   "metadata": {
    "execution": {
     "iopub.execute_input": "2021-03-12T06:18:11.818856Z",
     "iopub.status.busy": "2021-03-12T06:18:11.817914Z",
     "iopub.status.idle": "2021-03-12T06:18:14.818021Z",
     "shell.execute_reply": "2021-03-12T06:18:14.817513Z"
    },
    "papermill": {
     "duration": 3.020685,
     "end_time": "2021-03-12T06:18:14.818160",
     "exception": false,
     "start_time": "2021-03-12T06:18:11.797475",
     "status": "completed"
    },
    "tags": []
   },
   "outputs": [],
   "source": [
    "test_data.loc[:,RSSI_FEATS] = ss.transform(test_data.loc[:,RSSI_FEATS])\n",
    "for i in BSSID_FEATS:\n",
    "    test_data.loc[:,i] = le.transform(test_data.loc[:,i])\n",
    "    test_data.loc[:,i] = test_data.loc[:,i] + 1\n",
    "    \n",
    "test_data.loc[:, 'site_id'] = le_site.transform(test_data.loc[:, 'site_id'])\n",
    "\n",
    "test_data.loc[:,RSSI_FEATS] = ss.transform(test_data.loc[:,RSSI_FEATS])"
   ]
  },
  {
   "cell_type": "code",
   "execution_count": 11,
   "metadata": {
    "execution": {
     "iopub.execute_input": "2021-03-12T06:18:14.852026Z",
     "iopub.status.busy": "2021-03-12T06:18:14.851097Z",
     "iopub.status.idle": "2021-03-12T06:18:14.855098Z",
     "shell.execute_reply": "2021-03-12T06:18:14.855454Z"
    },
    "papermill": {
     "duration": 0.023012,
     "end_time": "2021-03-12T06:18:14.855577",
     "exception": false,
     "start_time": "2021-03-12T06:18:14.832565",
     "status": "completed"
    },
    "tags": []
   },
   "outputs": [],
   "source": [
    "site_count = len(data['site_id'].unique())\n",
    "data.reset_index(drop=True, inplace=True)"
   ]
  },
  {
   "cell_type": "code",
   "execution_count": 12,
   "metadata": {
    "execution": {
     "iopub.execute_input": "2021-03-12T06:18:14.886878Z",
     "iopub.status.busy": "2021-03-12T06:18:14.886316Z",
     "iopub.status.idle": "2021-03-12T06:18:14.968453Z",
     "shell.execute_reply": "2021-03-12T06:18:14.967254Z"
    },
    "papermill": {
     "duration": 0.099366,
     "end_time": "2021-03-12T06:18:14.968574",
     "exception": false,
     "start_time": "2021-03-12T06:18:14.869208",
     "status": "completed"
    },
    "tags": []
   },
   "outputs": [],
   "source": [
    "set_seed(SEED)"
   ]
  },
  {
   "cell_type": "markdown",
   "metadata": {
    "papermill": {
     "duration": 0.013555,
     "end_time": "2021-03-12T06:18:14.995847",
     "exception": false,
     "start_time": "2021-03-12T06:18:14.982292",
     "status": "completed"
    },
    "tags": []
   },
   "source": [
    "## The model\n",
    "The first Embedding layer is very important. <br>\n",
    "Thanks to the layer, we can make sense of these BSSID features. <br>\n",
    "<br>\n",
    "We concatenate all the features and put them into LSTM. <br>\n",
    "<br>\n",
    "If something is theoritically wrong, please correct me. Thank you in advance. "
   ]
  },
  {
   "cell_type": "code",
   "execution_count": 13,
   "metadata": {
    "execution": {
     "iopub.execute_input": "2021-03-12T06:18:15.037452Z",
     "iopub.status.busy": "2021-03-12T06:18:15.036610Z",
     "iopub.status.idle": "2021-03-12T06:18:15.043122Z",
     "shell.execute_reply": "2021-03-12T06:18:15.043500Z"
    },
    "papermill": {
     "duration": 0.033877,
     "end_time": "2021-03-12T06:18:15.043638",
     "exception": false,
     "start_time": "2021-03-12T06:18:15.009761",
     "status": "completed"
    },
    "tags": []
   },
   "outputs": [],
   "source": [
    "class IndoorDataset(Dataset):\n",
    "    def __init__(self, data, flag='TRAIN'):\n",
    "        self.data = data\n",
    "        self.flag = flag\n",
    "    def __len__(self):\n",
    "        return self.data.shape[0]\n",
    "    def __getitem__(self, index):\n",
    "        tmp_data = self.data.iloc[index]\n",
    "        if self.flag == 'TRAIN':\n",
    "            ## 加载数据也许花费许久的时间\n",
    "            return {\n",
    "                'BSSID_FEATS':tmp_data[BSSID_FEATS].values.astype(float),\n",
    "                'RSSI_FEATS':tmp_data[RSSI_FEATS].values.astype(float),\n",
    "                'site_id':tmp_data['site_id'].astype(int),\n",
    "                'x':tmp_data['x'],\n",
    "                'y':tmp_data['y'],\n",
    "                'floor':tmp_data['floor'],\n",
    "            }\n",
    "        else:\n",
    "            return {\n",
    "                'BSSID_FEATS':tmp_data[BSSID_FEATS].values.astype(float),\n",
    "                'RSSI_FEATS':tmp_data[RSSI_FEATS].values.astype(float),\n",
    "                'site_id':tmp_data['site_id'].astype(int)\n",
    "            }\n",
    "class simpleLSTM(nn.Module):\n",
    "    def __init__(self, embedding_dim = 64, seq_len=20):\n",
    "        super(simpleLSTM, self).__init__()\n",
    "        self.emb_BSSID_FEATS = nn.Embedding(wifi_bssids_size, embedding_dim)\n",
    "        self.emb_site_id = nn.Embedding(site_count, 2)\n",
    "        self.lstm1 = nn.LSTM(input_size=256,hidden_size=128, dropout=0.3, bidirectional=False)\n",
    "        self.lstm2 = nn.LSTM(input_size=128,hidden_size=16, dropout=0.1, bidirectional=False)\n",
    "        self.lr = nn.Linear(NUM_FEATS, NUM_FEATS * embedding_dim)\n",
    "        self.lr1 = nn.Linear(2562, 256)\n",
    "        self.lr_xy = nn.Linear(16, 2)\n",
    "        self.lr_floor = nn.Linear(16, 1)\n",
    "        self.batch_norm1 = nn.BatchNorm1d(NUM_FEATS)\n",
    "        self.batch_norm2 = nn.BatchNorm1d(2562)\n",
    "        self.batch_norm3 = nn.BatchNorm1d(1)\n",
    "        self.dropout = nn.Dropout(0.3)\n",
    "    def forward(self, x):\n",
    "        \n",
    "        x_bssid = self.emb_BSSID_FEATS(x['BSSID_FEATS'])\n",
    "        x_bssid = torch.flatten(x_bssid, start_dim=-2)\n",
    "        \n",
    "        x_site_id = self.emb_site_id(x['site_id'])\n",
    "        x_site_id = torch.flatten(x_site_id, start_dim=-1)\n",
    "        x_rssi = self.batch_norm1(x['RSSI_FEATS'])\n",
    "        x_rssi = self.lr(x_rssi)\n",
    "        x_rssi = torch.relu(x_rssi)\n",
    "        \n",
    "        x = torch.cat([x_bssid, x_site_id, x_rssi], dim=-1)\n",
    "        x = self.batch_norm2(x)\n",
    "        x = self.dropout(x)\n",
    "        x = torch.relu(self.lr1(x))\n",
    "\n",
    "        x = x.unsqueeze(-2)\n",
    "        x = self.batch_norm3(x)\n",
    "        x = x.transpose(0, 1)\n",
    "        x, _ = self.lstm1(x)\n",
    "        x = x.transpose(0, 1)\n",
    "        x = torch.relu(x)\n",
    "        x = x.transpose(0, 1)\n",
    "        x, _ = self.lstm2(x)\n",
    "        x = x.transpose(0, 1)\n",
    "        x = torch.relu(x)\n",
    "        xy = self.lr_xy(x)\n",
    "        floor = self.lr_floor(x)\n",
    "        floor = torch.relu(floor)\n",
    "        return xy.squeeze(-2), floor.squeeze(-2)"
   ]
  },
  {
   "cell_type": "code",
   "execution_count": 14,
   "metadata": {
    "execution": {
     "iopub.execute_input": "2021-03-12T06:18:15.081113Z",
     "iopub.status.busy": "2021-03-12T06:18:15.075851Z",
     "iopub.status.idle": "2021-03-12T06:18:15.091633Z",
     "shell.execute_reply": "2021-03-12T06:18:15.091192Z"
    },
    "papermill": {
     "duration": 0.033038,
     "end_time": "2021-03-12T06:18:15.091767",
     "exception": false,
     "start_time": "2021-03-12T06:18:15.058729",
     "status": "completed"
    },
    "tags": []
   },
   "outputs": [],
   "source": [
    "def evaluate(model, data_loader,  device='cuda'):\n",
    "    model.to(device)\n",
    "    model.eval()\n",
    "    x_list = []\n",
    "    y_list = []\n",
    "    floor_list = []\n",
    "    prexs_list = []\n",
    "    preys_list = []\n",
    "    prefloors_list = []\n",
    "    for d in tqdm(data_loader):\n",
    "        data_dict['BSSID_FEATS'] = d['BSSID_FEATS'].to(device).long()\n",
    "        data_dict['RSSI_FEATS'] = d['RSSI_FEATS'].to(device).float()\n",
    "        data_dict['site_id'] = d['site_id'].to(device).long()\n",
    "        x = d['x'].to(device).float()\n",
    "        y = d['y'].to(device).float()\n",
    "        floor = d['floor'].to(device).long()\n",
    "        x_list.append(x.cpu().detach().numpy())\n",
    "        y_list.append(y.cpu().detach().numpy())\n",
    "        floor_list.append(floor.cpu().detach().numpy())\n",
    "        xy, floor = model(data_dict)\n",
    "        prexs_list.append(xy[:, 0].cpu().detach().numpy())\n",
    "        preys_list.append(xy[:, 1].cpu().detach().numpy())\n",
    "        prefloors_list.append(floor.squeeze().cpu().detach().numpy())\n",
    "    x = np.concatenate(x_list)\n",
    "    y = np.concatenate(y_list)\n",
    "    floor = np.concatenate(floor_list)\n",
    "    prexs = np.concatenate(prexs_list)\n",
    "    preys =np.concatenate(preys_list)\n",
    "    prefloors = np.concatenate(prefloors_list)\n",
    "    eval_score = comp_metric(x, y, floor, prexs, preys, prefloors)\n",
    "    return eval_score\n",
    "def get_result(model, data_loader, device='cuda'):\n",
    "    model.eval()\n",
    "    model.to(device)\n",
    "    prexs_list = []\n",
    "    preys_list = []\n",
    "    prefloors_list = []\n",
    "    data_dict = {}\n",
    "    for d in tqdm(data_loader):\n",
    "        data_dict['BSSID_FEATS'] = d['BSSID_FEATS'].to(device).long()\n",
    "        data_dict['RSSI_FEATS'] = d['RSSI_FEATS'].to(device).float()\n",
    "        data_dict['site_id'] = d['site_id'].to(device).long()\n",
    "        xy, floor = model(data_dict)\n",
    "        prexs_list.append(xy[:, 0].cpu().detach().numpy())\n",
    "        preys_list.append(xy[:, 1].cpu().detach().numpy())\n",
    "        prefloors_list.append(floor.squeeze(-1).cpu().detach().numpy())\n",
    "    prexs = np.concatenate(prexs_list)\n",
    "    preys =np.concatenate(preys_list)\n",
    "    prefloors = np.concatenate(prefloors_list)\n",
    "    return prexs, preys, prefloors"
   ]
  },
  {
   "cell_type": "code",
   "execution_count": 15,
   "metadata": {
    "execution": {
     "iopub.execute_input": "2021-03-12T06:18:15.127771Z",
     "iopub.status.busy": "2021-03-12T06:18:15.126597Z",
     "iopub.status.idle": "2021-03-12T06:18:15.131612Z",
     "shell.execute_reply": "2021-03-12T06:18:15.131153Z"
    },
    "papermill": {
     "duration": 0.025362,
     "end_time": "2021-03-12T06:18:15.131738",
     "exception": false,
     "start_time": "2021-03-12T06:18:15.106376",
     "status": "completed"
    },
    "tags": []
   },
   "outputs": [],
   "source": [
    "score_df = pd.DataFrame()\n",
    "oof = list()\n",
    "predictions = list()\n",
    "\n",
    "oof_x, oof_y, oof_f = np.zeros(data.shape[0]), np.zeros(data.shape[0]), np.zeros(data.shape[0])\n",
    "preds_x, preds_y = 0, 0\n",
    "preds_f_arr = np.zeros((test_data.shape[0], N_SPLITS))\n",
    "\n",
    "# for fold, (trn_idx, val_idx) in enumerate(StratifiedKFold(n_splits=N_SPLITS, shuffle=True, random_state=SEED).split(data.loc[:, 'path'], data.loc[:, 'path'])):\n",
    "    \n",
    "#     train_data = data.loc[trn_idx]\n",
    "#     valid_data = data.loc[val_idx]\n",
    "#     train_dataset = IndoorDataset(train_data)\n",
    "#     train_dataloader = DataLoader(train_dataset, batch_size=128, shuffle=True, num_workers=6)\n",
    "#     valid_dataset = IndoorDataset(valid_data)\n",
    "#     valid_dataloader = DataLoader(valid_dataset, batch_size=128, shuffle=True, num_workers=6)\n",
    "#     test_dataset = IndoorDataset(test_data, 'TEST')\n",
    "#     test_dataloader = DataLoader(test_dataset, batch_size=128, shuffle=False, num_workers=6)\n",
    "#     device = 'cuda' if torch.cuda.is_available() else 'cpu'\n",
    "#     model = simpleLSTM()\n",
    "#     model = model.to(device)\n",
    "    \n",
    "#     mse = nn.MSELoss()\n",
    "#     mse = mse.to(device)\n",
    "#     optim = torch.optim.Adam(model.parameters(), lr=5e-3)\n",
    "    \n",
    "#     data_dict ={}\n",
    "#     best_loss = 1000\n",
    "#     num_epochs = 1\n",
    "#     best_epoch = 0\n",
    "#     for epoch in range(num_epochs):\n",
    "#         model.train()\n",
    "#         losses = []\n",
    "#         pbar = tqdm(train_dataloader)\n",
    "#         for d in pbar:\n",
    "#             data_dict['BSSID_FEATS'] = d['BSSID_FEATS'].to(device).long()\n",
    "#             data_dict['RSSI_FEATS'] = d['RSSI_FEATS'].to(device).float()\n",
    "#             data_dict['site_id'] = d['site_id'].to(device).long()\n",
    "#             x = d['x'].to(device).float().unsqueeze(-1)\n",
    "#             y = d['y'].to(device).float().unsqueeze(-1)\n",
    "#             floor = d['floor'].to(device).long()\n",
    "#             xy, floor = model(data_dict)\n",
    "#             label = torch.cat([x, y], dim=-1)\n",
    "#             loss = mse(xy, label)\n",
    "#             loss.backward()\n",
    "#             optim.step()\n",
    "#             optim.zero_grad()\n",
    "#             losses.append(loss.cpu().detach().numpy())\n",
    "#             pbar.set_description(f'loss:{np.mean(losses)}')\n",
    "#         score = evaluate(model, valid_dataloader, device)\n",
    "#         if score < best_loss:\n",
    "#             best_loss = score\n",
    "#             best_epoch = epoch\n",
    "#             best_model = copy.deepcopy(model)\n",
    "#         if best_epoch + 2<epoch:\n",
    "#             break\n",
    "#         print(\"*=\"*50)\n",
    "#         print(f\"fold {fold} EPOCH {epoch}: mean position error {score}\")\n",
    "#         print(\"*=\"*50)\n",
    "#     test_x, test_y, test_floor = get_result(best_model, test_dataloader, device)\n",
    "#     preds_f_arr[:,fold] = test_floor\n",
    "#     preds_x += test_x\n",
    "#     preds_y += test_y"
   ]
  },
  {
   "cell_type": "code",
   "execution_count": 16,
   "metadata": {
    "execution": {
     "iopub.execute_input": "2021-03-12T06:18:15.164335Z",
     "iopub.status.busy": "2021-03-12T06:18:15.163677Z",
     "iopub.status.idle": "2021-03-12T06:18:15.166673Z",
     "shell.execute_reply": "2021-03-12T06:18:15.166250Z"
    },
    "papermill": {
     "duration": 0.020603,
     "end_time": "2021-03-12T06:18:15.166782",
     "exception": false,
     "start_time": "2021-03-12T06:18:15.146179",
     "status": "completed"
    },
    "tags": []
   },
   "outputs": [],
   "source": [
    "# test_x /= (fold + 1)\n",
    "# test_y /= (fold + 1)\n",
    "    \n",
    "# print(\"*+\"*40)\n",
    "# # as it breaks in the middle of cross-validation, the score is not accurate at all.\n",
    "# score = comp_metric(oof_x, oof_y, oof_f, data.iloc[:, -5].to_numpy(), data.iloc[:, -4].to_numpy(), data.iloc[:, -3].to_numpy())\n",
    "# oof.append(score)\n",
    "# print(f\"mean position error {score}\")\n",
    "# print(\"*+\"*40)\n",
    "\n",
    "# preds_f_mode = stats.mode(preds_f_arr, axis=1)\n",
    "# preds_f = preds_f_mode[0].astype(int).reshape(-1)\n",
    "# test_preds = pd.DataFrame(np.stack((preds_f, test_x, test_y))).T\n",
    "# test_preds.columns = subm.columns\n",
    "# test_preds.index = test_data[\"site_path_timestamp\"]\n",
    "# test_preds[\"floor\"] = test_preds[\"floor\"].astype(int)\n",
    "# predictions.append(test_preds)"
   ]
  },
  {
   "cell_type": "code",
   "execution_count": 17,
   "metadata": {
    "execution": {
     "iopub.execute_input": "2021-03-12T06:18:15.205290Z",
     "iopub.status.busy": "2021-03-12T06:18:15.203975Z",
     "iopub.status.idle": "2021-03-12T06:18:15.207552Z",
     "shell.execute_reply": "2021-03-12T06:18:15.206324Z"
    },
    "papermill": {
     "duration": 0.026914,
     "end_time": "2021-03-12T06:18:15.207720",
     "exception": false,
     "start_time": "2021-03-12T06:18:15.180806",
     "status": "completed"
    },
    "tags": []
   },
   "outputs": [],
   "source": [
    "# all_preds = pd.concat(predictions)\n",
    "# all_preds = all_preds.reindex(subm.index)"
   ]
  },
  {
   "cell_type": "markdown",
   "metadata": {
    "papermill": {
     "duration": 0.01415,
     "end_time": "2021-03-12T06:18:15.236298",
     "exception": false,
     "start_time": "2021-03-12T06:18:15.222148",
     "status": "completed"
    },
    "tags": []
   },
   "source": [
    "## Fix the floor prediction\n",
    "So far, it is not successfully make the \"floor\" prediction part with this dataset. <br>\n",
    "To make it right, we can incorporate [@nigelhenry](https://www.kaggle.com/nigelhenry/)'s [excellent work](https://www.kaggle.com/nigelhenry/simple-99-accurate-floor-model). <br>"
   ]
  },
  {
   "cell_type": "code",
   "execution_count": 18,
   "metadata": {
    "execution": {
     "iopub.execute_input": "2021-03-12T06:18:15.268177Z",
     "iopub.status.busy": "2021-03-12T06:18:15.267515Z",
     "iopub.status.idle": "2021-03-12T06:18:15.270509Z",
     "shell.execute_reply": "2021-03-12T06:18:15.270033Z"
    },
    "papermill": {
     "duration": 0.020143,
     "end_time": "2021-03-12T06:18:15.270606",
     "exception": false,
     "start_time": "2021-03-12T06:18:15.250463",
     "status": "completed"
    },
    "tags": []
   },
   "outputs": [],
   "source": [
    "# simple_accurate_99 = pd.read_csv('../input/simple-99-accurate-floor-model/submission.csv')\n",
    "\n",
    "# all_preds['floor'] = simple_accurate_99['floor'].values"
   ]
  },
  {
   "cell_type": "code",
   "execution_count": 19,
   "metadata": {
    "execution": {
     "iopub.execute_input": "2021-03-12T06:18:15.302599Z",
     "iopub.status.busy": "2021-03-12T06:18:15.301977Z",
     "iopub.status.idle": "2021-03-12T06:18:15.304431Z",
     "shell.execute_reply": "2021-03-12T06:18:15.304809Z"
    },
    "papermill": {
     "duration": 0.019879,
     "end_time": "2021-03-12T06:18:15.304927",
     "exception": false,
     "start_time": "2021-03-12T06:18:15.285048",
     "status": "completed"
    },
    "tags": []
   },
   "outputs": [],
   "source": [
    "# all_preds.to_csv('submission.csv')"
   ]
  },
  {
   "cell_type": "markdown",
   "metadata": {
    "papermill": {
     "duration": 0.014379,
     "end_time": "2021-03-12T06:18:15.333637",
     "exception": false,
     "start_time": "2021-03-12T06:18:15.319258",
     "status": "completed"
    },
    "tags": []
   },
   "source": [
    "That's it. \n",
    "\n",
    "Thank you for reading all of it.\n",
    "\n",
    "I hope it helps!\n",
    "\n",
    "Please make comments if you found something to point out, insights or suggestions. "
   ]
  }
 ],
 "metadata": {
  "kernelspec": {
   "display_name": "Python 3",
   "language": "python",
   "name": "python3"
  },
  "language_info": {
   "codemirror_mode": {
    "name": "ipython",
    "version": 3
   },
   "file_extension": ".py",
   "mimetype": "text/x-python",
   "name": "python",
   "nbconvert_exporter": "python",
   "pygments_lexer": "ipython3",
   "version": "3.7.9"
  },
  "papermill": {
   "default_parameters": {},
   "duration": 69.245736,
   "end_time": "2021-03-12T06:18:17.361409",
   "environment_variables": {},
   "exception": null,
   "input_path": "__notebook__.ipynb",
   "output_path": "__notebook__.ipynb",
   "parameters": {},
   "start_time": "2021-03-12T06:17:08.115673",
   "version": "2.2.2"
  }
 },
 "nbformat": 4,
 "nbformat_minor": 4
}
